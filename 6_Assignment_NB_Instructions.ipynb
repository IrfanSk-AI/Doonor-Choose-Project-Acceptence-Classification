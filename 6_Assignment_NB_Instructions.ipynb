{
 "cells": [
  {
   "cell_type": "markdown",
   "metadata": {
    "colab_type": "text",
    "id": "Dnubs-Nnb3cw"
   },
   "source": [
    "# Assignment 6: Apply NB"
   ]
  },
  {
   "cell_type": "markdown",
   "metadata": {
    "colab_type": "text",
    "id": "12krXa2pb3c1"
   },
   "source": [
    "<ol>\n",
    "    <li><strong>Apply Multinomial NB on these feature sets</strong>\n",
    "        <ul>\n",
    "            <li><font color='red'>Set 1</font>: categorical, numerical features + preprocessed_eassay (BOW)</li>\n",
    "            <li><font color='red'>Set 2</font>: categorical, numerical features + preprocessed_eassay (TFIDF)</li>\n",
    "        </ul>\n",
    "    </li>\n",
    "    <li><strong>The hyper paramter tuning(find best alpha:smoothing parameter)</strong>\n",
    "        <ul>\n",
    "    <li>Find the best hyper parameter which will give the maximum <a href='https://www.appliedaicourse.com/course/applied-ai-course-online/lessons/receiver-operating-characteristic-curve-roc-curve-and-auc-1/'>AUC</a> value</li>\n",
    "    <li>find the best hyper paramter using k-fold cross validation(use GridsearchCV or RandomsearchCV)/simple cross validation data (write for loop to iterate over hyper parameter values)</li>\n",
    "    <li></li>\n",
    "        </ul>\n",
    "    </li>\n",
    "    <li>\n",
    "    <strong>Representation of results</strong>\n",
    "        <ul>\n",
    "    <li>You need to plot the performance of model both on train data and cross validation data for each hyper parameter, like shown in the figure\n",
    "    <img src='https://i.imgur.com/hUv6aEy.jpg' width=300px></li>\n",
    "    <li>Once after you found the best hyper parameter, you need to train your model with it, and find the AUC on test data and plot the ROC curve on both train and test.\n",
    "    <img src='https://i.imgur.com/wMQDTFe.jpg' width=300px></li>\n",
    "    <li>Along with plotting ROC curve, you need to print the <a href='https://www.appliedaicourse.com/course/applied-ai-course-online/lessons/confusion-matrix-tpr-fpr-fnr-tnr-1/'>confusion matrix</a> with predicted and original labels of test data points\n",
    "    <img src='https://i.imgur.com/IdN5Ctv.png' width=300px></li>\n",
    "        </ul>\n",
    "    </li>\n",
    "    <li>\n",
    "fine the top 20 features from either from feature <font color='red'>Set 1</font> or feature <font color='red'>Set 2</font> using absolute values of `feature_log_prob_ ` parameter of `MultinomialNB` \n",
    "(https://scikit-learn.org/stable/modules/generated/sklearn.naive_bayes.MultinomialNB.html) and print their corresponding feature names\n",
    "    </li>\n",
    "    <li>You need to summarize the results at the end of the notebook, summarize it in the table format\n",
    "        <img src='http://i.imgur.com/YVpIGGE.jpg' width=400px>\n",
    "    </li>\n",
    "</ol>"
   ]
  },
  {
   "cell_type": "markdown",
   "metadata": {
    "colab_type": "text",
    "id": "inzYCIaib3c3"
   },
   "source": [
    "<h1>2. Naive Bayes </h1>"
   ]
  },
  {
   "cell_type": "markdown",
   "metadata": {
    "colab_type": "text",
    "id": "FYqCIxzFb3c5"
   },
   "source": [
    "## 1.1 Loading Data"
   ]
  },
  {
   "cell_type": "code",
   "execution_count": 1,
   "metadata": {
    "colab": {},
    "colab_type": "code",
    "id": "dA1jknyqb3c_"
   },
   "outputs": [
    {
     "data": {
      "text/html": [
       "<div>\n",
       "<style scoped>\n",
       "    .dataframe tbody tr th:only-of-type {\n",
       "        vertical-align: middle;\n",
       "    }\n",
       "\n",
       "    .dataframe tbody tr th {\n",
       "        vertical-align: top;\n",
       "    }\n",
       "\n",
       "    .dataframe thead th {\n",
       "        text-align: right;\n",
       "    }\n",
       "</style>\n",
       "<table border=\"1\" class=\"dataframe\">\n",
       "  <thead>\n",
       "    <tr style=\"text-align: right;\">\n",
       "      <th></th>\n",
       "      <th>school_state</th>\n",
       "      <th>teacher_prefix</th>\n",
       "      <th>project_grade_category</th>\n",
       "      <th>teacher_number_of_previously_posted_projects</th>\n",
       "      <th>project_is_approved</th>\n",
       "      <th>clean_categories</th>\n",
       "      <th>clean_subcategories</th>\n",
       "      <th>essay</th>\n",
       "      <th>price</th>\n",
       "    </tr>\n",
       "  </thead>\n",
       "  <tbody>\n",
       "    <tr>\n",
       "      <td>0</td>\n",
       "      <td>ca</td>\n",
       "      <td>mrs</td>\n",
       "      <td>grades_prek_2</td>\n",
       "      <td>53</td>\n",
       "      <td>1</td>\n",
       "      <td>math_science</td>\n",
       "      <td>appliedsciences health_lifescience</td>\n",
       "      <td>i fortunate enough use fairy tale stem kits cl...</td>\n",
       "      <td>725.05</td>\n",
       "    </tr>\n",
       "    <tr>\n",
       "      <td>1</td>\n",
       "      <td>ut</td>\n",
       "      <td>ms</td>\n",
       "      <td>grades_3_5</td>\n",
       "      <td>4</td>\n",
       "      <td>1</td>\n",
       "      <td>specialneeds</td>\n",
       "      <td>specialneeds</td>\n",
       "      <td>imagine 8 9 years old you third grade classroo...</td>\n",
       "      <td>213.03</td>\n",
       "    </tr>\n",
       "  </tbody>\n",
       "</table>\n",
       "</div>"
      ],
      "text/plain": [
       "  school_state teacher_prefix project_grade_category  \\\n",
       "0           ca            mrs          grades_prek_2   \n",
       "1           ut             ms             grades_3_5   \n",
       "\n",
       "   teacher_number_of_previously_posted_projects  project_is_approved  \\\n",
       "0                                            53                    1   \n",
       "1                                             4                    1   \n",
       "\n",
       "  clean_categories                 clean_subcategories  \\\n",
       "0     math_science  appliedsciences health_lifescience   \n",
       "1     specialneeds                        specialneeds   \n",
       "\n",
       "                                               essay   price  \n",
       "0  i fortunate enough use fairy tale stem kits cl...  725.05  \n",
       "1  imagine 8 9 years old you third grade classroo...  213.03  "
      ]
     },
     "execution_count": 1,
     "metadata": {},
     "output_type": "execute_result"
    }
   ],
   "source": [
    "import pandas\n",
    "import numpy\n",
    "data = pandas.read_csv('preprocessed_data.csv')\n",
    "data.head(2)"
   ]
  },
  {
   "cell_type": "code",
   "execution_count": 2,
   "metadata": {},
   "outputs": [
    {
     "data": {
      "text/html": [
       "<div>\n",
       "<style scoped>\n",
       "    .dataframe tbody tr th:only-of-type {\n",
       "        vertical-align: middle;\n",
       "    }\n",
       "\n",
       "    .dataframe tbody tr th {\n",
       "        vertical-align: top;\n",
       "    }\n",
       "\n",
       "    .dataframe thead th {\n",
       "        text-align: right;\n",
       "    }\n",
       "</style>\n",
       "<table border=\"1\" class=\"dataframe\">\n",
       "  <thead>\n",
       "    <tr style=\"text-align: right;\">\n",
       "      <th></th>\n",
       "      <th>school_state</th>\n",
       "      <th>teacher_prefix</th>\n",
       "      <th>project_grade_category</th>\n",
       "      <th>teacher_number_of_previously_posted_projects</th>\n",
       "      <th>clean_categories</th>\n",
       "      <th>clean_subcategories</th>\n",
       "      <th>essay</th>\n",
       "      <th>price</th>\n",
       "    </tr>\n",
       "  </thead>\n",
       "  <tbody>\n",
       "    <tr>\n",
       "      <td>0</td>\n",
       "      <td>ca</td>\n",
       "      <td>mrs</td>\n",
       "      <td>grades_prek_2</td>\n",
       "      <td>53</td>\n",
       "      <td>math_science</td>\n",
       "      <td>appliedsciences health_lifescience</td>\n",
       "      <td>i fortunate enough use fairy tale stem kits cl...</td>\n",
       "      <td>725.05</td>\n",
       "    </tr>\n",
       "  </tbody>\n",
       "</table>\n",
       "</div>"
      ],
      "text/plain": [
       "  school_state teacher_prefix project_grade_category  \\\n",
       "0           ca            mrs          grades_prek_2   \n",
       "\n",
       "   teacher_number_of_previously_posted_projects clean_categories  \\\n",
       "0                                            53     math_science   \n",
       "\n",
       "                  clean_subcategories  \\\n",
       "0  appliedsciences health_lifescience   \n",
       "\n",
       "                                               essay   price  \n",
       "0  i fortunate enough use fairy tale stem kits cl...  725.05  "
      ]
     },
     "execution_count": 2,
     "metadata": {},
     "output_type": "execute_result"
    }
   ],
   "source": [
    "y = data['project_is_approved'].values\n",
    "X = data.drop(['project_is_approved'], axis=1)\n",
    "X.head(1)"
   ]
  },
  {
   "cell_type": "markdown",
   "metadata": {
    "colab_type": "text",
    "id": "WtVV13Fyb3dH"
   },
   "source": [
    "<h2>1.2 Splitting data into Train and cross validation(or test): Stratified Sampling</h2>"
   ]
  },
  {
   "cell_type": "code",
   "execution_count": 3,
   "metadata": {},
   "outputs": [],
   "source": [
    "from sklearn.model_selection import train_test_split\n",
    "X_train, X_test, y_train, y_test = train_test_split(X, y, test_size=0.33, stratify=y)"
   ]
  },
  {
   "cell_type": "code",
   "execution_count": 4,
   "metadata": {},
   "outputs": [
    {
     "name": "stdout",
     "output_type": "stream",
     "text": [
      "(73196, 8) (73196,)\n",
      "(36052, 8) (36052,)\n",
      "====================================================================================================\n"
     ]
    }
   ],
   "source": [
    "print(X_train.shape, y_train.shape)\n",
    "print(X_test.shape, y_test.shape)\n",
    "\n",
    "print(\"=\"*100)"
   ]
  },
  {
   "cell_type": "markdown",
   "metadata": {
    "colab_type": "text",
    "id": "EnZwVNULb3dO"
   },
   "source": [
    "<h2>1.3 Make Data Model Ready: encoding eassay</h2>"
   ]
  },
  {
   "cell_type": "markdown",
   "metadata": {},
   "source": [
    "### 1.3.1 Bag Of Words represntation"
   ]
  },
  {
   "cell_type": "code",
   "execution_count": 5,
   "metadata": {},
   "outputs": [
    {
     "name": "stdout",
     "output_type": "stream",
     "text": [
      "After vectorizations\n",
      "(73196, 5000) (73196,)\n",
      "(36052, 5000) (36052,)\n"
     ]
    }
   ],
   "source": [
    "from sklearn.feature_extraction.text import CountVectorizer\n",
    "\n",
    "\n",
    "vectorizer = CountVectorizer(min_df=10,ngram_range=(1,4), max_features=5000)\n",
    "vectorizer.fit(X_train['essay'].values) # fit has to happen only on train data\n",
    "\n",
    "# we use the fitted CountVectorizer to convert the text to vector\n",
    "X_train_essay_bow = vectorizer.transform(X_train['essay'].values)\n",
    "X_test_essay_bow = vectorizer.transform(X_test['essay'].values)\n",
    "bow_essay_feature_names= vectorizer.get_feature_names()\n",
    "\n",
    "print(\"After vectorizations\")\n",
    "print(X_train_essay_bow.shape, y_train.shape)\n",
    "print(X_test_essay_bow.shape, y_test.shape)"
   ]
  },
  {
   "cell_type": "markdown",
   "metadata": {},
   "source": [
    "### 1.3.2 TF-IDF Representation"
   ]
  },
  {
   "cell_type": "code",
   "execution_count": 6,
   "metadata": {},
   "outputs": [
    {
     "name": "stdout",
     "output_type": "stream",
     "text": [
      "After vectorizations\n",
      "(73196, 14188) (73196,)\n",
      "(36052, 14188) (73196,)\n"
     ]
    }
   ],
   "source": [
    "from sklearn.feature_extraction.text import TfidfVectorizer\n",
    "vectorizer = TfidfVectorizer(min_df=10)\n",
    "vectorizer.fit(X_train['essay'].values)\n",
    "\n",
    "X_train_essay_tfidf = vectorizer.transform(X_train['essay'].values)\n",
    "X_test_essay_tfidf = vectorizer.transform(X_test['essay'].values)\n",
    "tfidf_essay_feature_names= vectorizer.get_feature_names()\n",
    "\n",
    "print(\"After vectorizations\")\n",
    "print(X_train_essay_tfidf.shape, y_train.shape)\n",
    "print(X_test_essay_tfidf.shape, y_train.shape)"
   ]
  },
  {
   "cell_type": "markdown",
   "metadata": {
    "colab_type": "text",
    "id": "bGy86kgHb3dX"
   },
   "source": [
    "<h2>1.4 Make Data Model Ready: encoding numerical, categorical features</h2>"
   ]
  },
  {
   "cell_type": "markdown",
   "metadata": {},
   "source": [
    "<h3>1.4.1 encoding categorical features: School State</h3>"
   ]
  },
  {
   "cell_type": "code",
   "execution_count": 7,
   "metadata": {},
   "outputs": [
    {
     "name": "stdout",
     "output_type": "stream",
     "text": [
      "After vectorizations\n",
      "(73196, 51) (73196,)\n",
      "(36052, 51) (36052,)\n",
      "['ak', 'al', 'ar', 'az', 'ca', 'co', 'ct', 'dc', 'de', 'fl', 'ga', 'hi', 'ia', 'id', 'il', 'in', 'ks', 'ky', 'la', 'ma', 'md', 'me', 'mi', 'mn', 'mo', 'ms', 'mt', 'nc', 'nd', 'ne', 'nh', 'nj', 'nm', 'nv', 'ny', 'oh', 'ok', 'or', 'pa', 'ri', 'sc', 'sd', 'tn', 'tx', 'ut', 'va', 'vt', 'wa', 'wi', 'wv', 'wy']\n",
      "====================================================================================================\n"
     ]
    }
   ],
   "source": [
    "vectorizer = CountVectorizer(binary=True)\n",
    "\n",
    "vectorizer.fit(X_train['school_state'].values) # fit has to happen only on train data\n",
    "\n",
    "# we use the fitted CountVectorizer to convert the text to vector\n",
    "X_train_state_ohe = vectorizer.transform(X_train['school_state'].values)\n",
    "X_test_state_ohe = vectorizer.transform(X_test['school_state'].values)\n",
    "ohe_state_feature_names= vectorizer.get_feature_names()\n",
    "\n",
    "print(\"After vectorizations\")\n",
    "print(X_train_state_ohe.shape, y_train.shape)\n",
    "print(X_test_state_ohe.shape, y_test.shape)\n",
    "print(ohe_state_feature_names)\n",
    "print(\"=\"*100)"
   ]
  },
  {
   "cell_type": "markdown",
   "metadata": {},
   "source": [
    "<h3>1.4.2 encoding categorical features: teacher_prefix</h3>"
   ]
  },
  {
   "cell_type": "code",
   "execution_count": 8,
   "metadata": {},
   "outputs": [
    {
     "name": "stdout",
     "output_type": "stream",
     "text": [
      "After vectorizations\n",
      "(73196, 5) (73196,)\n",
      "(36052, 5) (36052,)\n",
      "['dr', 'mr', 'mrs', 'ms', 'teacher']\n",
      "====================================================================================================\n"
     ]
    }
   ],
   "source": [
    "vectorizer = CountVectorizer(binary=True)\n",
    "vectorizer.fit(X_train['teacher_prefix'].values) # fit has to happen only on train data\n",
    "\n",
    "# we use the fitted CountVectorizer to convert the text to vector\n",
    "X_train_teacher_ohe = vectorizer.transform(X_train['teacher_prefix'].values)\n",
    "X_test_teacher_ohe = vectorizer.transform(X_test['teacher_prefix'].values)\n",
    "ohe_teacher_prefix_feature_names= vectorizer.get_feature_names()\n",
    "\n",
    "print(\"After vectorizations\")\n",
    "print(X_train_teacher_ohe.shape, y_train.shape)\n",
    "print(X_test_teacher_ohe.shape, y_test.shape)\n",
    "print(ohe_teacher_prefix_feature_names)\n",
    "print(\"=\"*100)"
   ]
  },
  {
   "cell_type": "markdown",
   "metadata": {},
   "source": [
    "<h3>1.4.3 encoding categorical features: project_grade_category</h3>"
   ]
  },
  {
   "cell_type": "code",
   "execution_count": 9,
   "metadata": {},
   "outputs": [
    {
     "name": "stdout",
     "output_type": "stream",
     "text": [
      "After vectorizations\n",
      "(73196, 4) (73196,)\n",
      "(36052, 4) (36052,)\n",
      "['grades_3_5', 'grades_6_8', 'grades_9_12', 'grades_prek_2']\n",
      "====================================================================================================\n"
     ]
    }
   ],
   "source": [
    "vectorizer = CountVectorizer(binary=True)\n",
    "vectorizer.fit(X_train['project_grade_category'].values) # fit has to happen only on train data\n",
    "\n",
    "# we use the fitted CountVectorizer to convert the text to vector\n",
    "X_train_grade_ohe = vectorizer.transform(X_train['project_grade_category'].values)\n",
    "X_test_grade_ohe = vectorizer.transform(X_test['project_grade_category'].values)\n",
    "\n",
    "ohe_project_grade_category_feature_names= vectorizer.get_feature_names()\n",
    "\n",
    "print(\"After vectorizations\")\n",
    "print(X_train_grade_ohe.shape, y_train.shape)\n",
    "print(X_test_grade_ohe.shape, y_test.shape)\n",
    "print(ohe_project_grade_category_feature_names)\n",
    "print(\"=\"*100)"
   ]
  },
  {
   "cell_type": "markdown",
   "metadata": {},
   "source": [
    "<h3>1.4.4 encoding categorical features: clean_categories</h3>"
   ]
  },
  {
   "cell_type": "code",
   "execution_count": 10,
   "metadata": {},
   "outputs": [
    {
     "name": "stdout",
     "output_type": "stream",
     "text": [
      "After vectorizations\n",
      "(73196, 9) (73196,)\n",
      "(36052, 9) (36052,)\n",
      "['appliedlearning', 'care_hunger', 'health_sports', 'history_civics', 'literacy_language', 'math_science', 'music_arts', 'specialneeds', 'warmth']\n",
      "====================================================================================================\n"
     ]
    }
   ],
   "source": [
    "vectorizer = CountVectorizer(binary=True)\n",
    "vectorizer.fit(X_train['clean_categories'].values) # fit has to happen only on train data\n",
    "\n",
    "# we use the fitted CountVectorizer to convert the text to vector\n",
    "X_train_clean_cat_ohe = vectorizer.transform(X_train['clean_categories'].values)\n",
    "X_test_clean_cat_ohe = vectorizer.transform(X_test['clean_categories'].values)\n",
    "\n",
    "ohe_clean_categories_feature_names= vectorizer.get_feature_names()\n",
    "\n",
    "print(\"After vectorizations\")\n",
    "print(X_train_clean_cat_ohe.shape, y_train.shape)\n",
    "print(X_test_clean_cat_ohe.shape, y_test.shape)\n",
    "print(ohe_clean_categories_feature_names)\n",
    "print(\"=\"*100)"
   ]
  },
  {
   "cell_type": "markdown",
   "metadata": {},
   "source": [
    "<h3>1.4.5 encoding categorical features: clean_subcategories</h3>"
   ]
  },
  {
   "cell_type": "code",
   "execution_count": 11,
   "metadata": {},
   "outputs": [
    {
     "name": "stdout",
     "output_type": "stream",
     "text": [
      "After vectorizations\n",
      "(73196, 30) (73196,)\n",
      "(36052, 30) (36052,)\n",
      "['appliedsciences', 'care_hunger', 'charactereducation', 'civics_government', 'college_careerprep', 'communityservice', 'earlydevelopment', 'economics', 'environmentalscience', 'esl', 'extracurricular', 'financialliteracy', 'foreignlanguages', 'gym_fitness', 'health_lifescience', 'health_wellness', 'history_geography', 'literacy', 'literature_writing', 'mathematics', 'music', 'nutritioneducation', 'other', 'parentinvolvement', 'performingarts', 'socialsciences', 'specialneeds', 'teamsports', 'visualarts', 'warmth']\n",
      "====================================================================================================\n"
     ]
    }
   ],
   "source": [
    "vectorizer = CountVectorizer(binary=True)\n",
    "vectorizer.fit(X_train['clean_subcategories'].values) # fit has to happen only on train data\n",
    "\n",
    "# we use the fitted CountVectorizer to convert the text to vector\n",
    "X_train_clean_subcat_ohe = vectorizer.transform(X_train['clean_subcategories'].values)\n",
    "X_test_clean_subcat_ohe = vectorizer.transform(X_test['clean_subcategories'].values)\n",
    "\n",
    "ohe_clean_subcategories_feature_names= vectorizer.get_feature_names()\n",
    "\n",
    "print(\"After vectorizations\")\n",
    "print(X_train_clean_subcat_ohe.shape, y_train.shape)\n",
    "print(X_test_clean_subcat_ohe.shape, y_test.shape)\n",
    "print(ohe_clean_subcategories_feature_names)\n",
    "print(\"=\"*100)"
   ]
  },
  {
   "cell_type": "markdown",
   "metadata": {},
   "source": [
    "<h3>1.5.1 encoding numerical features: Price</h3>"
   ]
  },
  {
   "cell_type": "code",
   "execution_count": 13,
   "metadata": {},
   "outputs": [
    {
     "name": "stdout",
     "output_type": "stream",
     "text": [
      "After vectorizations\n",
      "(73196, 1) (73196,)\n",
      "(36052, 1) (36052,)\n",
      "====================================================================================================\n"
     ]
    }
   ],
   "source": [
    "from sklearn.preprocessing import Normalizer\n",
    "normalizer = Normalizer()\n",
    "# normalizer.fit(X_train['price'].values)\n",
    "# this will rise an error Expected 2D array, got 1D array instead: \n",
    "# array=[105.22 215.96  96.01 ... 368.98  80.53 709.67].\n",
    "# Reshape your data either using \n",
    "# array.reshape(-1, 1) if your data has a single feature \n",
    "# array.reshape(1, -1)  if it contains a single sample.\n",
    "normalizer.fit(X_train['price'].values.reshape(1,-1))\n",
    "\n",
    "X_train_price_norm = normalizer.transform(X_train['price'].values.reshape(1,-1)).reshape(-1,1)\n",
    "X_test_price_norm = normalizer.transform(X_test['price'].values.reshape(1,-1)).reshape(-1,1)\n",
    "\n",
    "\n",
    "print(\"After vectorizations\")\n",
    "print(X_train_price_norm.shape, y_train.shape)\n",
    "print(X_test_price_norm.shape, y_test.shape)\n",
    "print(\"=\"*100)"
   ]
  },
  {
   "cell_type": "markdown",
   "metadata": {},
   "source": [
    "<h3>1.5.2 encoding numerical features: teacher_number_of_previously_posted_projects</h3>"
   ]
  },
  {
   "cell_type": "code",
   "execution_count": 14,
   "metadata": {},
   "outputs": [
    {
     "name": "stdout",
     "output_type": "stream",
     "text": [
      "After vectorizations\n",
      "(73196, 1) (73196,)\n",
      "(36052, 1) (36052,)\n",
      "====================================================================================================\n"
     ]
    }
   ],
   "source": [
    "from sklearn.preprocessing import Normalizer\n",
    "normalizer = Normalizer()\n",
    "# normalizer.fit(X_train['price'].values)\n",
    "# this will rise an error Expected 2D array, got 1D array instead: \n",
    "# array=[105.22 215.96  96.01 ... 368.98  80.53 709.67].\n",
    "# Reshape your data either using \n",
    "# array.reshape(-1, 1) if your data has a single feature \n",
    "# array.reshape(1, -1)  if it contains a single sample.\n",
    "normalizer.fit(X_train['teacher_number_of_previously_posted_projects'].values.reshape(1,-1))\n",
    "\n",
    "X_train_previous_projects_norm = normalizer.transform(X_train['teacher_number_of_previously_posted_projects'].values.reshape(1,-1)).reshape(-1,1)\n",
    "X_test_previous_projects_norm = normalizer.transform(X_test['teacher_number_of_previously_posted_projects'].values.reshape(1,-1)).reshape(-1,1)\n",
    "\n",
    "\n",
    "\n",
    "print(\"After vectorizations\")\n",
    "print(X_train_previous_projects_norm.shape, y_train.shape)\n",
    "print(X_test_previous_projects_norm.shape, y_test.shape)\n",
    "print(\"=\"*100)"
   ]
  },
  {
   "cell_type": "markdown",
   "metadata": {},
   "source": [
    "# Classification of Set-1 dataset\n",
    "\n",
    "### 2.1.1 Concatinating all the features for Bag of Words representation"
   ]
  },
  {
   "cell_type": "code",
   "execution_count": 15,
   "metadata": {},
   "outputs": [
    {
     "name": "stdout",
     "output_type": "stream",
     "text": [
      "Final Data matrix\n",
      "(73196, 5101) (73196,)\n",
      "(36052, 5101) (36052,)\n",
      "====================================================================================================\n"
     ]
    }
   ],
   "source": [
    "# merge two sparse matrices: https://stackoverflow.com/a/19710648/4084039\n",
    "from scipy.sparse import hstack\n",
    "X_tr = hstack((X_train_essay_bow, X_train_state_ohe, X_train_teacher_ohe, X_train_grade_ohe, X_train_clean_cat_ohe, \n",
    "               X_train_clean_subcat_ohe, X_train_price_norm, X_train_previous_projects_norm)).tocsr()\n",
    "X_te = hstack((X_test_essay_bow, X_test_state_ohe, X_test_teacher_ohe, X_test_grade_ohe, X_test_clean_cat_ohe,\n",
    "               X_test_clean_subcat_ohe, X_test_price_norm, X_test_previous_projects_norm)).tocsr()\n",
    "\n",
    "lst=[]\n",
    "lst.extend(bow_essay_feature_names)\n",
    "lst.extend(ohe_state_feature_names)\n",
    "lst.extend(ohe_teacher_prefix_feature_names)\n",
    "lst.extend(ohe_project_grade_category_feature_names)\n",
    "lst.extend(ohe_clean_categories_feature_names)\n",
    "lst.extend(ohe_clean_subcategories_feature_names)\n",
    "lst.extend(\"Price\")\n",
    "lst.extend(\"teacher_number_of_previously_posted_projects\")\n",
    "\n",
    "\n",
    "print(\"Final Data matrix\")\n",
    "print(X_tr.shape, y_train.shape)\n",
    "print(X_te.shape, y_test.shape)\n",
    "print(\"=\"*100)"
   ]
  },
  {
   "cell_type": "markdown",
   "metadata": {
    "colab_type": "text",
    "id": "yYHPYadYb3dh"
   },
   "source": [
    "<h3>2.1.2 Appling NB on Set-1 and performing RandomSearchCV</h3>"
   ]
  },
  {
   "cell_type": "code",
   "execution_count": 16,
   "metadata": {},
   "outputs": [],
   "source": [
    "from sklearn.metrics import roc_curve, auc\n",
    "from sklearn.naive_bayes import MultinomialNB\n",
    "from sklearn.model_selection import RandomizedSearchCV\n",
    "import matplotlib.pyplot as plt\n",
    "\n",
    "#https://scikit-learn.org/stable/modules/generated/sklearn.naive_bayes.MultinomialNB.html \n",
    "# Since we have imbalance dataset, we use class prior =[0.5,0.5]\n",
    "multi_NB = MultinomialNB(class_prior=[0.5,0.5])\n",
    "parameters = {'alpha':[0.00001,0.0001,0.001,0.01,0.1,1,10,100,1000,10000]}\n",
    "#https://scikit-learn.org/stable/modules/generated/sklearn.model_selection.RandomizedSearch \n",
    "clf = RandomizedSearchCV(multi_NB, parameters, cv=5, scoring='roc_auc', return_train_score=True)\n",
    "clf.fit(X_tr, y_train)\n",
    "\n",
    "results = pandas.DataFrame.from_dict(clf.cv_results_)\n"
   ]
  },
  {
   "cell_type": "code",
   "execution_count": 17,
   "metadata": {},
   "outputs": [
    {
     "name": "stdout",
     "output_type": "stream",
     "text": [
      "   mean_fit_time  std_fit_time  mean_score_time  std_score_time param_alpha  \\\n",
      "0       0.184666      0.020966         0.029252        0.007008       1e-05   \n",
      "1       0.195503      0.018785         0.031317        0.002491      0.0001   \n",
      "2       0.200304      0.007432         0.029485        0.004256       0.001   \n",
      "3       0.199872      0.005548         0.028972        0.006713        0.01   \n",
      "4       0.195093      0.007038         0.033650        0.002934         0.1   \n",
      "5       0.195977      0.005910         0.031500        0.000484           1   \n",
      "6       0.198142      0.007132         0.032543        0.002103          10   \n",
      "7       0.197373      0.008484         0.032418        0.007760         100   \n",
      "8       0.198806      0.005159         0.025003        0.007635        1000   \n",
      "9       0.205197      0.013876         0.023775        0.006702       10000   \n",
      "\n",
      "              params  split0_test_score  split1_test_score  split2_test_score  \\\n",
      "0   {'alpha': 1e-05}           0.698363           0.690664           0.697625   \n",
      "1  {'alpha': 0.0001}           0.698363           0.690664           0.697625   \n",
      "2   {'alpha': 0.001}           0.698363           0.690664           0.697625   \n",
      "3    {'alpha': 0.01}           0.698361           0.690659           0.697623   \n",
      "4     {'alpha': 0.1}           0.698330           0.690622           0.697603   \n",
      "5       {'alpha': 1}           0.697975           0.690295           0.697353   \n",
      "6      {'alpha': 10}           0.694216           0.686875           0.694703   \n",
      "7     {'alpha': 100}           0.655653           0.653919           0.663755   \n",
      "8    {'alpha': 1000}           0.501149           0.502199           0.505295   \n",
      "9   {'alpha': 10000}           0.499751           0.500936           0.501572   \n",
      "\n",
      "   split3_test_score  ...  mean_test_score  std_test_score  rank_test_score  \\\n",
      "0           0.690803  ...         0.693853        0.003412                2   \n",
      "1           0.690803  ...         0.693853        0.003412                1   \n",
      "2           0.690803  ...         0.693853        0.003412                3   \n",
      "3           0.690799  ...         0.693850        0.003413                4   \n",
      "4           0.690761  ...         0.693817        0.003419                5   \n",
      "5           0.690457  ...         0.693498        0.003429                6   \n",
      "6           0.687167  ...         0.690120        0.003555                7   \n",
      "7           0.654771  ...         0.655402        0.004786                8   \n",
      "8           0.501532  ...         0.502335        0.001518                9   \n",
      "9           0.500588  ...         0.500618        0.000617               10   \n",
      "\n",
      "   split0_train_score  split1_train_score  split2_train_score  \\\n",
      "0            0.720626            0.721307            0.723567   \n",
      "1            0.720626            0.721307            0.723567   \n",
      "2            0.720625            0.721307            0.723567   \n",
      "3            0.720621            0.721302            0.723562   \n",
      "4            0.720578            0.721260            0.723515   \n",
      "5            0.720144            0.720832            0.723042   \n",
      "6            0.715708            0.716471            0.718275   \n",
      "7            0.673392            0.673698            0.673759   \n",
      "8            0.502549            0.502649            0.501781   \n",
      "9            0.500835            0.500595            0.500436   \n",
      "\n",
      "   split3_train_score  split4_train_score  mean_train_score  std_train_score  \n",
      "0            0.720700            0.721508          0.721542         0.001068  \n",
      "1            0.720700            0.721507          0.721541         0.001068  \n",
      "2            0.720699            0.721507          0.721541         0.001068  \n",
      "3            0.720695            0.721503          0.721537         0.001068  \n",
      "4            0.720653            0.721463          0.721494         0.001066  \n",
      "5            0.720237            0.721057          0.721063         0.001048  \n",
      "6            0.715964            0.716913          0.716666         0.000905  \n",
      "7            0.673826            0.675828          0.674100         0.000876  \n",
      "8            0.502835            0.502865          0.502536         0.000395  \n",
      "9            0.500615            0.500712          0.500638         0.000132  \n",
      "\n",
      "[10 rows x 21 columns]\n"
     ]
    }
   ],
   "source": [
    "print(results)"
   ]
  },
  {
   "cell_type": "markdown",
   "metadata": {},
   "source": [
    "### 2.1.3 Finding best Hyper Parameter"
   ]
  },
  {
   "cell_type": "code",
   "execution_count": 18,
   "metadata": {},
   "outputs": [],
   "source": [
    "train_auc= results['mean_train_score']\n",
    "train_auc_std= results['std_train_score']\n",
    "cv_auc = results['mean_test_score'] \n",
    "cv_auc_std= results['std_test_score']\n",
    "alpha = results['param_alpha']"
   ]
  },
  {
   "cell_type": "code",
   "execution_count": 19,
   "metadata": {},
   "outputs": [
    {
     "name": "stdout",
     "output_type": "stream",
     "text": [
      "[-11.512925464970229, -9.210340371976182, -6.907755278982137, -4.605170185988091, -2.3025850929940455, 0.0, 2.302585092994046, 4.605170185988092, 6.907755278982137, 9.210340371976184]\n"
     ]
    }
   ],
   "source": [
    "import math\n",
    "log_alpha=[math.log(i) for i in alpha]\n",
    "print(log_alpha)"
   ]
  },
  {
   "cell_type": "code",
   "execution_count": 20,
   "metadata": {},
   "outputs": [
    {
     "data": {
      "image/png": "[encoded data removed]",
      "text/plain": [
       "<Figure size 432x288 with 1 Axes>"
      ]
     },
     "metadata": {
      "needs_background": "light"
     },
     "output_type": "display_data"
    }
   ],
   "source": [
    "plt.plot(log_alpha, train_auc, label='Train AUC')\n",
    "plt.plot(log_alpha, cv_auc, label='CV AUC')\n",
    "plt.scatter(log_alpha, train_auc, label='Train AUC points')\n",
    "plt.scatter(log_alpha, cv_auc, label='CV AUC points')\n",
    "\n",
    "plt.legend()\n",
    "plt.xlabel(\"K: hyperparameter\")\n",
    "plt.ylabel(\"AUC\")\n",
    "plt.title(\"Hyper parameter Vs AUC plot\")\n",
    "plt.grid()\n",
    "plt.show()"
   ]
  },
  {
   "cell_type": "markdown",
   "metadata": {},
   "source": [
    "### 2.1.4 Plotting ROC curve for the given Alpha"
   ]
  },
  {
   "cell_type": "code",
   "execution_count": 21,
   "metadata": {},
   "outputs": [
    {
     "name": "stdout",
     "output_type": "stream",
     "text": [
      "0.0001\n"
     ]
    },
    {
     "name": "stderr",
     "output_type": "stream",
     "text": [
      "C:\\Users\\rubiy\\Anaconda3\\lib\\site-packages\\numpy\\core\\fromnumeric.py:56: FutureWarning: \n",
      "The current behaviour of 'Series.argmax' is deprecated, use 'idxmax'\n",
      "instead.\n",
      "The behavior of 'argmax' will be corrected to return the positional\n",
      "maximum in the future. For now, use 'series.values.argmax' or\n",
      "'np.argmax(np.array(values))' to get the position of the maximum\n",
      "row.\n",
      "  return getattr(obj, method)(*args, **kwds)\n"
     ]
    }
   ],
   "source": [
    "index=numpy.argmax(cv_auc)\n",
    "best_alpha_bow=alpha[index]\n",
    "print(best_alpha_bow)"
   ]
  },
  {
   "cell_type": "code",
   "execution_count": 22,
   "metadata": {},
   "outputs": [
    {
     "data": {
      "image/png": "[encoded data removed]",
      "text/plain": [
       "<Figure size 432x288 with 1 Axes>"
      ]
     },
     "metadata": {
      "needs_background": "light"
     },
     "output_type": "display_data"
    }
   ],
   "source": [
    "from sklearn.metrics import roc_curve, auc\n",
    "\n",
    "#https://scikit-learn.org/stable/modules/generated/sklearn.naive_bayes.MultinomialNB.html \n",
    "# Since we have imbalance dataset, we use class prior =[0.5,0.5]\n",
    "clasify = MultinomialNB(alpha=best_alpha_bow,class_prior=[0.5,0.5])\n",
    "clasify.fit(X_tr, y_train)\n",
    "y_train_pred=clasify.predict_log_proba(X_tr)[:,1]\n",
    "y_test_pred=clasify.predict_log_proba(X_te)[:,1]\n",
    "\n",
    "train_fpr, train_tpr, tr_thresholds = roc_curve(y_train, y_train_pred)\n",
    "test_fpr, test_tpr, te_thresholds = roc_curve(y_test, y_test_pred)\n",
    "\n",
    "bow_train_auc=auc(train_fpr, train_tpr)\n",
    "bow_test_auc=auc(test_fpr, test_tpr)\n",
    "\n",
    "plt.plot(train_fpr, train_tpr, label=\"Train AUC =\"+str(bow_train_auc))\n",
    "plt.plot(test_fpr, test_tpr, label=\"Test AUC =\"+str(bow_test_auc))\n",
    "plt.legend()\n",
    "plt.xlabel(\"K: hyperparameter\")\n",
    "plt.ylabel(\"AUC\")\n",
    "plt.title(\"ERROR PLOTS\")\n",
    "plt.grid()\n",
    "plt.show()"
   ]
  },
  {
   "cell_type": "markdown",
   "metadata": {},
   "source": [
    "### 2.1.5 Finding Best Threshold and Predicting Class Labels"
   ]
  },
  {
   "cell_type": "code",
   "execution_count": 23,
   "metadata": {},
   "outputs": [],
   "source": [
    "# we are writing our own function for predict, with defined thresould\n",
    "# we will pick a threshold that will give the least fpr\n",
    "def find_best_threshold(threshould, fpr, tpr):\n",
    "    t = threshould[numpy.argmax(tpr*(1-fpr))]\n",
    "    # (tpr*(1-fpr)) will be maximum if your fpr is very low and tpr is very high\n",
    "    print(\"the maximum value of tpr*(1-fpr)\", max(tpr*(1-fpr)), \"for threshold\", numpy.round(t,3))\n",
    "    return t\n",
    "\n",
    "def predict_with_best_t(proba, threshould):\n",
    "    predictions = []\n",
    "    for i in proba:\n",
    "        if i>=threshould:\n",
    "            predictions.append(1)\n",
    "        else:\n",
    "            predictions.append(0)\n",
    "    return predictions"
   ]
  },
  {
   "cell_type": "code",
   "execution_count": 24,
   "metadata": {},
   "outputs": [
    {
     "name": "stdout",
     "output_type": "stream",
     "text": [
      "====================================================================================================\n",
      "the maximum value of tpr*(1-fpr) 0.4430143087248612 for threshold -0.853\n"
     ]
    }
   ],
   "source": [
    "print(\"=\"*100)\n",
    "from sklearn.metrics import confusion_matrix\n",
    "\n",
    "best_t = find_best_threshold(tr_thresholds, train_fpr, train_tpr)\n",
    "\n",
    "y_train_predict=predict_with_best_t(y_train_pred, best_t)\n",
    "y_test_predict=predict_with_best_t(y_test_pred, best_t)\n"
   ]
  },
  {
   "cell_type": "markdown",
   "metadata": {},
   "source": [
    "### 2.1.6 Computing Confusion Matrix for both Train and Test dataset"
   ]
  },
  {
   "cell_type": "code",
   "execution_count": 25,
   "metadata": {},
   "outputs": [
    {
     "data": {
      "image/png": "[encoded data removed]",
      "text/plain": [
       "<Figure size 432x288 with 2 Axes>"
      ]
     },
     "metadata": {
      "needs_background": "light"
     },
     "output_type": "display_data"
    }
   ],
   "source": [
    "#https://seaborn.pydata.org/generated/seaborn.heatmap.html\n",
    "import seaborn as sn\n",
    "\n",
    "df=confusion_matrix(y_train, y_train_predict)\n",
    "sn.heatmap(df, annot=True,fmt=\"g\",cmap=\"Blues\", annot_kws={\"size\": 15})\n",
    "plt.xlabel(\"Predicted Values\")\n",
    "plt.ylabel(\"Actual Values\")\n",
    "plt.xlim(0,2)\n",
    "plt.ylim(0,2)\n",
    "plt.title(\"Confusion Matrix for Train Dataset\") \n",
    "plt.show()"
   ]
  },
  {
   "cell_type": "code",
   "execution_count": 26,
   "metadata": {},
   "outputs": [
    {
     "data": {
      "image/png": "[encoded data removed]",
      "text/plain": [
       "<Figure size 432x288 with 2 Axes>"
      ]
     },
     "metadata": {
      "needs_background": "light"
     },
     "output_type": "display_data"
    }
   ],
   "source": [
    "#https://seaborn.pydata.org/generated/seaborn.heatmap.html\n",
    "import seaborn as sn\n",
    "\n",
    "df_1=confusion_matrix(y_test, y_test_predict)\n",
    "sn.heatmap(df_1, annot=True,fmt=\"g\",cmap=\"Blues\", annot_kws={\"size\": 15})\n",
    "plt.xlabel(\"Predicted Values\")\n",
    "plt.ylabel(\"Actual Values\")\n",
    "plt.xlim(0,2)\n",
    "plt.ylim(0,2)\n",
    "plt.title(\"Confusion Matrix for Test Dataset\") \n",
    "plt.show()"
   ]
  },
  {
   "cell_type": "markdown",
   "metadata": {},
   "source": [
    "### 2.1.7 Train and Test Accuracy Scores"
   ]
  },
  {
   "cell_type": "code",
   "execution_count": 27,
   "metadata": {},
   "outputs": [
    {
     "name": "stdout",
     "output_type": "stream",
     "text": [
      "The train accuracy is :0.669326192688125\n",
      "The test accuracy is :0.6582159103517142\n"
     ]
    }
   ],
   "source": [
    "# https://scikit-learn.org/stable/modules/generated/sklearn.metrics.accuracy_score.html\n",
    "from sklearn.metrics import accuracy_score\n",
    "\n",
    "print(\"The train accuracy is :\"+str(accuracy_score(y_train, y_train_predict)))\n",
    "print(\"The test accuracy is :\"+str(accuracy_score(y_test, y_test_predict)))"
   ]
  },
  {
   "cell_type": "markdown",
   "metadata": {},
   "source": [
    "### 2.1.8 Top 20 features of Negative Class and Positive Class"
   ]
  },
  {
   "cell_type": "code",
   "execution_count": 28,
   "metadata": {},
   "outputs": [
    {
     "name": "stdout",
     "output_type": "stream",
     "text": [
      "[3993 3580 2305 2768  678 2931 2247 4463 1869 2788 4403 2837 2573 4781\n",
      " 2851 4882  769 2468 3404   89]\n"
     ]
    }
   ],
   "source": [
    "indices=numpy.argsort(clasify.feature_log_prob_[0])[:-21:-1]\n",
    "print(indices)"
   ]
  },
  {
   "cell_type": "code",
   "execution_count": 29,
   "metadata": {},
   "outputs": [
    {
     "name": "stdout",
     "output_type": "stream",
     "text": [
      "These are the top 20 features of negative class :\n",
      "['students', 'school', 'learning', 'my', 'classroom', 'not', 'learn', 'they', 'help', 'my students', 'the', 'nannan', 'many', 'we', 'need', 'work', 'come', 'love', 'reading', 'able']\n"
     ]
    }
   ],
   "source": [
    "bow_top_20_features_negative_class=[lst[i] for i in indices]\n",
    "print(\"These are the top 20 features of negative class :\")\n",
    "print(bow_top_20_features_negative_class)"
   ]
  },
  {
   "cell_type": "code",
   "execution_count": 30,
   "metadata": {},
   "outputs": [
    {
     "name": "stdout",
     "output_type": "stream",
     "text": [
      "[3993 3580 2768 2305  678 4403 4463 2931 2788 2247 1869 2573 2837 4781\n",
      " 4882 2851 3404 4665 2468  999]\n"
     ]
    }
   ],
   "source": [
    "indices=numpy.argsort(clasify.feature_log_prob_[1])[:-21:-1]\n",
    "print(indices)"
   ]
  },
  {
   "cell_type": "code",
   "execution_count": 31,
   "metadata": {},
   "outputs": [
    {
     "name": "stdout",
     "output_type": "stream",
     "text": [
      "These are the top 20 features of positive class :\n",
      "['students', 'school', 'my', 'learning', 'classroom', 'the', 'they', 'not', 'my students', 'learn', 'help', 'many', 'nannan', 'we', 'work', 'need', 'reading', 'use', 'love', 'day']\n"
     ]
    }
   ],
   "source": [
    "bow_top_20_features_positive_class=[lst[i] for i in indices]\n",
    "print(\"These are the top 20 features of positive class :\")\n",
    "print(bow_top_20_features_positive_class)"
   ]
  },
  {
   "cell_type": "markdown",
   "metadata": {},
   "source": [
    "# Classification of Set-2 dataset\n",
    "\n",
    "### 2.2.1 Concatinating all the features for TF-IDF representation"
   ]
  },
  {
   "cell_type": "code",
   "execution_count": 32,
   "metadata": {},
   "outputs": [
    {
     "name": "stdout",
     "output_type": "stream",
     "text": [
      "Final Data matrix\n",
      "(73196, 14350) (73196,)\n",
      "(36052, 14350) (36052,)\n",
      "====================================================================================================\n"
     ]
    }
   ],
   "source": [
    "# merge two sparse matrices: https://stackoverflow.com/a/19710648/4084039\n",
    "from scipy.sparse import hstack\n",
    "X_tr = hstack((X_train_essay_tfidf, X_train_state_ohe, X_train_teacher_ohe, X_train_grade_ohe, X_train_clean_cat_ohe, \n",
    "               X_train_clean_subcat_ohe, X_train_price_norm, X_train_previous_projects_norm)).tocsr()\n",
    "X_te = hstack((X_test_essay_tfidf, X_test_state_ohe, X_test_teacher_ohe, X_test_grade_ohe, X_test_clean_cat_ohe,\n",
    "               X_test_clean_subcat_ohe, X_test_price_norm, X_test_previous_projects_norm)).tocsr()\n",
    "\n",
    "\n",
    "lst=[]\n",
    "lst.extend(tfidf_essay_feature_names)\n",
    "lst.extend(ohe_state_feature_names)\n",
    "lst.extend(ohe_teacher_prefix_feature_names)\n",
    "lst.extend(ohe_project_grade_category_feature_names)\n",
    "lst.extend(ohe_clean_categories_feature_names)\n",
    "lst.extend(ohe_clean_subcategories_feature_names)\n",
    "lst.extend(\"Price\")\n",
    "lst.extend(\"teacher_number_of_previously_posted_projects\")\n",
    "\n",
    "\n",
    "print(\"Final Data matrix\")\n",
    "print(X_tr.shape, y_train.shape)\n",
    "print(X_te.shape, y_test.shape)\n",
    "print(\"=\"*100)"
   ]
  },
  {
   "cell_type": "markdown",
   "metadata": {},
   "source": [
    "<h3>2.2.2 Appling NB on Set-2 and performing RandomizedSearchCV</h3>"
   ]
  },
  {
   "cell_type": "code",
   "execution_count": 33,
   "metadata": {},
   "outputs": [],
   "source": [
    "from sklearn.metrics import roc_curve, auc\n",
    "from sklearn.naive_bayes import MultinomialNB\n",
    "from sklearn.model_selection import RandomizedSearchCV\n",
    "import matplotlib.pyplot as plt\n",
    "\n",
    "#https://scikit-learn.org/stable/modules/generated/sklearn.naive_bayes.MultinomialNB.html \n",
    "# Since we have imbalance dataset, we use class prior =[0.5,0.5]\n",
    "multi_NB = MultinomialNB(class_prior=[0.5,0.5])\n",
    "parameters = {'alpha':[0.00001,0.0001,0.001,0.01,0.1,1,10,100,1000,10000]}\n",
    "#https://scikit-learn.org/stable/modules/generated/sklearn.model_selection.RandomizedSearch \n",
    "clf = RandomizedSearchCV(multi_NB, parameters, cv=5, scoring='roc_auc', return_train_score=True)\n",
    "clf.fit(X_tr, y_train)\n",
    "\n",
    "results = pandas.DataFrame.from_dict(clf.cv_results_)"
   ]
  },
  {
   "cell_type": "code",
   "execution_count": 34,
   "metadata": {},
   "outputs": [
    {
     "name": "stdout",
     "output_type": "stream",
     "text": [
      "   mean_fit_time  std_fit_time  mean_score_time  std_score_time param_alpha  \\\n",
      "0       0.114616      0.005504         0.021240        0.002798       1e-05   \n",
      "1       0.164950      0.011741         0.031554        0.003997      0.0001   \n",
      "2       0.157075      0.018151         0.031536        0.005506       0.001   \n",
      "3       0.169533      0.020798         0.025675        0.006286        0.01   \n",
      "4       0.168118      0.007455         0.027980        0.007836         0.1   \n",
      "5       0.166012      0.007564         0.027101        0.005730           1   \n",
      "6       0.159595      0.007838         0.031109        0.008655          10   \n",
      "7       0.168444      0.004533         0.029133        0.003408         100   \n",
      "8       0.164418      0.007626         0.029962        0.007654        1000   \n",
      "9       0.157702      0.004645         0.031603        0.000716       10000   \n",
      "\n",
      "              params  split0_test_score  split1_test_score  split2_test_score  \\\n",
      "0   {'alpha': 1e-05}           0.666761           0.654847           0.655368   \n",
      "1  {'alpha': 0.0001}           0.672393           0.660741           0.658936   \n",
      "2   {'alpha': 0.001}           0.679370           0.667924           0.663915   \n",
      "3    {'alpha': 0.01}           0.686338           0.675120           0.670007   \n",
      "4     {'alpha': 0.1}           0.687111           0.677664           0.673058   \n",
      "5       {'alpha': 1}           0.646783           0.641028           0.638893   \n",
      "6      {'alpha': 10}           0.572158           0.567499           0.565442   \n",
      "7     {'alpha': 100}           0.541938           0.531644           0.532126   \n",
      "8    {'alpha': 1000}           0.539417           0.523244           0.527021   \n",
      "9   {'alpha': 10000}           0.543989           0.525149           0.530553   \n",
      "\n",
      "   split3_test_score  ...  mean_test_score  std_test_score  rank_test_score  \\\n",
      "0           0.660545  ...         0.660440        0.004795                5   \n",
      "1           0.665054  ...         0.665183        0.004975                4   \n",
      "2           0.670900  ...         0.671265        0.005286                3   \n",
      "3           0.676752  ...         0.677476        0.005352                2   \n",
      "4           0.676999  ...         0.678413        0.004654                1   \n",
      "5           0.638477  ...         0.639735        0.004303                6   \n",
      "6           0.565245  ...         0.564995        0.005750                7   \n",
      "7           0.533160  ...         0.532377        0.006004                8   \n",
      "8           0.526674  ...         0.527045        0.006848               10   \n",
      "9           0.529384  ...         0.530419        0.007318                9   \n",
      "\n",
      "   split0_train_score  split1_train_score  split2_train_score  \\\n",
      "0            0.812005            0.809112            0.808545   \n",
      "1            0.810023            0.806890            0.806371   \n",
      "2            0.806077            0.802593            0.802200   \n",
      "3            0.797881            0.793970            0.793824   \n",
      "4            0.775754            0.771544            0.771924   \n",
      "5            0.692662            0.690545            0.691571   \n",
      "6            0.576964            0.577956            0.579117   \n",
      "7            0.532845            0.535148            0.535734   \n",
      "8            0.524719            0.528501            0.527921   \n",
      "9            0.527337            0.531793            0.530668   \n",
      "\n",
      "   split3_train_score  split4_train_score  mean_train_score  std_train_score  \n",
      "0            0.808730            0.805755          0.808829         0.001985  \n",
      "1            0.806544            0.803587          0.806683         0.002045  \n",
      "2            0.802324            0.799458          0.802531         0.002106  \n",
      "3            0.793812            0.791177          0.794133         0.002145  \n",
      "4            0.771594            0.769295          0.772022         0.002087  \n",
      "5            0.691236            0.690486          0.691300         0.000796  \n",
      "6            0.578861            0.581071          0.578794         0.001367  \n",
      "7            0.535242            0.537944          0.535383         0.001625  \n",
      "8            0.527983            0.529939          0.527813         0.001709  \n",
      "9            0.530934            0.532546          0.530655         0.001787  \n",
      "\n",
      "[10 rows x 21 columns]\n"
     ]
    }
   ],
   "source": [
    "print(results)"
   ]
  },
  {
   "cell_type": "markdown",
   "metadata": {},
   "source": [
    "### 2.2.3 Finding best Hyper Parameter"
   ]
  },
  {
   "cell_type": "code",
   "execution_count": 35,
   "metadata": {},
   "outputs": [],
   "source": [
    "train_auc= results['mean_train_score']\n",
    "train_auc_std= results['std_train_score']\n",
    "cv_auc = results['mean_test_score'] \n",
    "cv_auc_std= results['std_test_score']\n",
    "alpha = results['param_alpha']"
   ]
  },
  {
   "cell_type": "code",
   "execution_count": 36,
   "metadata": {},
   "outputs": [
    {
     "name": "stdout",
     "output_type": "stream",
     "text": [
      "[-11.512925464970229, -9.210340371976182, -6.907755278982137, -4.605170185988091, -2.3025850929940455, 0.0, 2.302585092994046, 4.605170185988092, 6.907755278982137, 9.210340371976184]\n"
     ]
    }
   ],
   "source": [
    "import math\n",
    "log_alpha=[math.log(i) for i in alpha]\n",
    "print(log_alpha)"
   ]
  },
  {
   "cell_type": "code",
   "execution_count": 37,
   "metadata": {},
   "outputs": [
    {
     "data": {
      "image/png": "[encoded data removed]",
      "text/plain": [
       "<Figure size 432x288 with 1 Axes>"
      ]
     },
     "metadata": {
      "needs_background": "light"
     },
     "output_type": "display_data"
    }
   ],
   "source": [
    "plt.plot(log_alpha, train_auc, label='Train AUC')\n",
    "plt.plot(log_alpha, cv_auc, label='CV AUC')\n",
    "plt.scatter(log_alpha, train_auc, label='Train AUC points')\n",
    "plt.scatter(log_alpha, cv_auc, label='CV AUC points')\n",
    "\n",
    "plt.legend()\n",
    "plt.xlabel(\"Alpha : hyperparameter\")\n",
    "plt.ylabel(\"AUC\")\n",
    "plt.title(\"Hyper parameter Vs AUC plot\")\n",
    "plt.grid()\n",
    "plt.show()"
   ]
  },
  {
   "cell_type": "markdown",
   "metadata": {},
   "source": [
    "### 2.2.4 Plotting ROC curve for the given Alpha"
   ]
  },
  {
   "cell_type": "code",
   "execution_count": 38,
   "metadata": {},
   "outputs": [
    {
     "name": "stdout",
     "output_type": "stream",
     "text": [
      "0.1\n"
     ]
    },
    {
     "name": "stderr",
     "output_type": "stream",
     "text": [
      "C:\\Users\\rubiy\\Anaconda3\\lib\\site-packages\\numpy\\core\\fromnumeric.py:56: FutureWarning: \n",
      "The current behaviour of 'Series.argmax' is deprecated, use 'idxmax'\n",
      "instead.\n",
      "The behavior of 'argmax' will be corrected to return the positional\n",
      "maximum in the future. For now, use 'series.values.argmax' or\n",
      "'np.argmax(np.array(values))' to get the position of the maximum\n",
      "row.\n",
      "  return getattr(obj, method)(*args, **kwds)\n"
     ]
    }
   ],
   "source": [
    "index=numpy.argmax(cv_auc)\n",
    "best_alpha_tfidf=alpha[index]\n",
    "print(best_alpha_tfidf)"
   ]
  },
  {
   "cell_type": "code",
   "execution_count": 39,
   "metadata": {},
   "outputs": [
    {
     "data": {
      "image/png": "[encoded data removed]",
      "text/plain": [
       "<Figure size 432x288 with 1 Axes>"
      ]
     },
     "metadata": {
      "needs_background": "light"
     },
     "output_type": "display_data"
    }
   ],
   "source": [
    "from sklearn.metrics import roc_curve, auc\n",
    "\n",
    "#https://scikit-learn.org/stable/modules/generated/sklearn.naive_bayes.MultinomialNB.html \n",
    "# Since we have imbalance dataset, we use class prior =[0.5,0.5]\n",
    "clasify = MultinomialNB(alpha=best_alpha_tfidf,class_prior=[0.5,0.5])\n",
    "clasify.fit(X_tr, y_train)\n",
    "y_train_pred=clasify.predict_log_proba(X_tr)[:,1]\n",
    "y_test_pred=clasify.predict_log_proba(X_te)[:,1]\n",
    "\n",
    "train_fpr, train_tpr, tr_thresholds = roc_curve(y_train, y_train_pred)\n",
    "test_fpr, test_tpr, te_thresholds = roc_curve(y_test, y_test_pred)\n",
    "\n",
    "tfidf_train_auc=auc(train_fpr, train_tpr)\n",
    "tfidf_test_auc=auc(test_fpr, test_tpr)\n",
    "\n",
    "plt.plot(train_fpr, train_tpr, label=\"Train AUC =\"+str(tfidf_train_auc))\n",
    "plt.plot(test_fpr, test_tpr, label=\"Test AUC =\"+str(tfidf_test_auc))\n",
    "plt.legend()\n",
    "plt.xlabel(\"K: hyperparameter\")\n",
    "plt.ylabel(\"AUC\")\n",
    "plt.title(\"ERROR PLOTS\")\n",
    "plt.grid()\n",
    "plt.show()"
   ]
  },
  {
   "cell_type": "markdown",
   "metadata": {},
   "source": [
    "### 2.2.5 Finding Best Threshold and Predicting Class Labels"
   ]
  },
  {
   "cell_type": "code",
   "execution_count": 40,
   "metadata": {},
   "outputs": [],
   "source": [
    "# we are writing our own function for predict, with defined thresould\n",
    "# we will pick a threshold that will give the least fpr\n",
    "def find_best_threshold(threshould, fpr, tpr):\n",
    "    t = threshould[numpy.argmax(tpr*(1-fpr))]\n",
    "    # (tpr*(1-fpr)) will be maximum if your fpr is very low and tpr is very high\n",
    "    print(\"the maximum value of tpr*(1-fpr)\", max(tpr*(1-fpr)), \"for threshold\", numpy.round(t,3))\n",
    "    return t\n",
    "\n",
    "def predict_with_best_t(proba, threshould):\n",
    "    predictions = []\n",
    "    for i in proba:\n",
    "        if i>=threshould:\n",
    "            predictions.append(1)\n",
    "        else:\n",
    "            predictions.append(0)\n",
    "    return predictions"
   ]
  },
  {
   "cell_type": "code",
   "execution_count": 41,
   "metadata": {},
   "outputs": [
    {
     "name": "stdout",
     "output_type": "stream",
     "text": [
      "====================================================================================================\n",
      "the maximum value of tpr*(1-fpr) 0.4801786379569613 for threshold -0.67\n"
     ]
    }
   ],
   "source": [
    "print(\"=\"*100)\n",
    "from sklearn.metrics import confusion_matrix\n",
    "\n",
    "best_t = find_best_threshold(tr_thresholds, train_fpr, train_tpr)\n",
    "\n",
    "y_train_predict=predict_with_best_t(y_train_pred, best_t)\n",
    "y_test_predict=predict_with_best_t(y_test_pred, best_t)"
   ]
  },
  {
   "cell_type": "markdown",
   "metadata": {},
   "source": [
    "### 2.2.6 Computing Confusion Matrix for both Train and Test dataset"
   ]
  },
  {
   "cell_type": "code",
   "execution_count": 42,
   "metadata": {},
   "outputs": [
    {
     "data": {
      "image/png": "[encoded data removed]",
      "text/plain": [
       "<Figure size 432x288 with 2 Axes>"
      ]
     },
     "metadata": {
      "needs_background": "light"
     },
     "output_type": "display_data"
    }
   ],
   "source": [
    "#https://seaborn.pydata.org/generated/seaborn.heatmap.html\n",
    "import seaborn as sn\n",
    "\n",
    "df=confusion_matrix(y_train, y_train_predict)\n",
    "sn.heatmap(df, annot=True,fmt=\"g\",cmap=\"Blues\", annot_kws={\"size\": 15})\n",
    "plt.xlabel(\"Predicted Values\")\n",
    "plt.ylabel(\"Actual Values\")\n",
    "plt.xlim(0,2)\n",
    "plt.ylim(0,2)\n",
    "plt.title(\"Confusion Matrix for Train Dataset\") \n",
    "plt.show()"
   ]
  },
  {
   "cell_type": "code",
   "execution_count": 43,
   "metadata": {},
   "outputs": [
    {
     "data": {
      "image/png": "[encoded data removed]",
      "text/plain": [
       "<Figure size 432x288 with 2 Axes>"
      ]
     },
     "metadata": {
      "needs_background": "light"
     },
     "output_type": "display_data"
    }
   ],
   "source": [
    "#https://seaborn.pydata.org/generated/seaborn.heatmap.html\n",
    "import seaborn as sn\n",
    "\n",
    "df_1=confusion_matrix(y_test, y_test_predict)\n",
    "sn.heatmap(df_1, annot=True,fmt=\"g\",cmap=\"Blues\", annot_kws={\"size\": 15})\n",
    "plt.xlabel(\"Predicted Values\")\n",
    "plt.ylabel(\"Actual Values\")\n",
    "plt.xlim(0,2)\n",
    "plt.ylim(0,2)\n",
    "plt.title(\"Confusion Matrix for Test Dataset\") \n",
    "plt.show()"
   ]
  },
  {
   "cell_type": "markdown",
   "metadata": {},
   "source": [
    "### 2.2.7 Train and Test Accuracy Scores"
   ]
  },
  {
   "cell_type": "code",
   "execution_count": 44,
   "metadata": {},
   "outputs": [
    {
     "name": "stdout",
     "output_type": "stream",
     "text": [
      "The train accuracy is :0.6773594185474616\n",
      "The test accuracy is :0.6427105292355486\n"
     ]
    }
   ],
   "source": [
    "# https://scikit-learn.org/stable/modules/generated/sklearn.metrics.accuracy_score.html\n",
    "from sklearn.metrics import accuracy_score\n",
    "\n",
    "print(\"The train accuracy is :\"+str(accuracy_score(y_train, y_train_predict)))\n",
    "print(\"The test accuracy is :\"+str(accuracy_score(y_test, y_test_predict)))"
   ]
  },
  {
   "cell_type": "markdown",
   "metadata": {},
   "source": [
    "### 2.2.8 Top 20 features of Negative Class and Positive Class"
   ]
  },
  {
   "cell_type": "code",
   "execution_count": 45,
   "metadata": {},
   "outputs": [
    {
     "name": "stdout",
     "output_type": "stream",
     "text": [
      "[14302 14313 14308 14314 14303 14305 14335 14337 14336 14306 14316 14344\n",
      " 14311 14253 12280 14309 14318 14307 14301 14315]\n"
     ]
    }
   ],
   "source": [
    "indices=numpy.argsort(clasify.feature_log_prob_[0])[:-21:-1]\n",
    "print(indices)"
   ]
  },
  {
   "cell_type": "code",
   "execution_count": 46,
   "metadata": {},
   "outputs": [
    {
     "name": "stdout",
     "output_type": "stream",
     "text": [
      "These are the top 20 features of negative class :\n",
      "['students', 'school', 'learning', 'my', 'classroom', 'not', 'learn', 'they', 'help', 'my students', 'the', 'nannan', 'many', 'we', 'need', 'work', 'come', 'love', 'reading', 'able']\n"
     ]
    }
   ],
   "source": [
    "tfidf_top_20_features_negative_class=[lst[i] for i in indices]\n",
    "print(\"These are the top 20 features of negative class :\")\n",
    "print(bow_top_20_features_negative_class)"
   ]
  },
  {
   "cell_type": "code",
   "execution_count": 47,
   "metadata": {},
   "outputs": [
    {
     "name": "stdout",
     "output_type": "stream",
     "text": [
      "[14302 14313 14308 14314 14303 14305 14335 14337 14336 14306 14253 12280\n",
      " 14311 14344 14316 14309 14307 14301 14318 14333]\n"
     ]
    }
   ],
   "source": [
    "indices=numpy.argsort(clasify.feature_log_prob_[1])[:-21:-1]\n",
    "print(indices)"
   ]
  },
  {
   "cell_type": "code",
   "execution_count": 48,
   "metadata": {},
   "outputs": [
    {
     "name": "stdout",
     "output_type": "stream",
     "text": [
      "These are the top 20 features of positive class :\n",
      "['students', 'school', 'my', 'learning', 'classroom', 'the', 'they', 'not', 'my students', 'learn', 'help', 'many', 'nannan', 'we', 'work', 'need', 'reading', 'use', 'love', 'day']\n"
     ]
    }
   ],
   "source": [
    "tfidf_top_20_features_positive_class=[lst[i] for i in indices]\n",
    "print(\"These are the top 20 features of positive class :\")\n",
    "print(bow_top_20_features_positive_class)"
   ]
  },
  {
   "cell_type": "markdown",
   "metadata": {
    "colab_type": "text",
    "id": "lS9hIHdib3dp"
   },
   "source": [
    "<h1>3. Summary</h1>\n",
    "\n",
    "<br> as mentioned in the step 5 of instructions"
   ]
  },
  {
   "cell_type": "code",
   "execution_count": 49,
   "metadata": {},
   "outputs": [
    {
     "data": {
      "image/png": "[encoded data removed]",
      "text/plain": [
       "<Figure size 432x288 with 1 Axes>"
      ]
     },
     "metadata": {
      "needs_background": "light"
     },
     "output_type": "display_data"
    }
   ],
   "source": [
    "# https://chadrick-kwag.net/matplotlib-table-example/\n",
    "# https://matplotlib.org/3.1.1/api/_as_gen/matplotlib.pyplot.table.html\n",
    "\n",
    "fig = plt.figure()\n",
    "ax = fig.add_subplot(1,1,1)\n",
    "data=[[\"BOW\",\"Brute\",best_alpha_bow, bow_train_auc, bow_test_auc],\n",
    "      [\"TF-IDF\",\"Brute\",best_alpha_tfidf, tfidf_train_auc, tfidf_test_auc]]\n",
    "table=ax.table(cellText=data,colLabels=[\"Vectorizer\",\"model\",\"Alpha-Parameter\",\"Train_AUC\",\"Test_AUC\"])\n",
    "table.set_fontsize(50)\n",
    "table.scale(10,10)\n",
    "ax.axis(\"off\")\n",
    "plt.show()"
   ]
  },
  {
   "cell_type": "code",
   "execution_count": null,
   "metadata": {},
   "outputs": [],
   "source": []
  }
 ],
 "metadata": {
  "colab": {
   "collapsed_sections": [],
   "name": "6_Assignment_NB_Instructions.ipynb",
   "provenance": [],
   "version": "0.3.2"
  },
  "kernelspec": {
   "display_name": "Python 3",
   "language": "python",
   "name": "python3"
  },
  "language_info": {
   "codemirror_mode": {
    "name": "ipython",
    "version": 3
   },
   "file_extension": ".py",
   "mimetype": "text/x-python",
   "name": "python",
   "nbconvert_exporter": "python",
   "pygments_lexer": "ipython3",
   "version": "3.7.6"
  }
 },
 "nbformat": 4,
 "nbformat_minor": 1
}
